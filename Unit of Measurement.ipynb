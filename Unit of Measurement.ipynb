{
 "cells": [
  {
   "cell_type": "code",
   "execution_count": 2,
   "id": "ccc4dfb3-d307-425b-91ca-61d7c400ac28",
   "metadata": {},
   "outputs": [
    {
     "name": "stdin",
     "output_type": "stream",
     "text": [
      "Enter Starting Unit of Measurement(inches, feet, yards):  inches\n",
      "Enter Starting Unit of Measurement to Convert to (inches, feet, yards):  feet\n",
      "Enter Starting Unit of Measurement in Inches:  24\n",
      "Enter Starting Unit of Measurement in Feet:  3\n",
      "Enter Starting Unit of Measurement in Yards:  1\n"
     ]
    }
   ],
   "source": [
    "convert_from = input(\"Enter Starting Unit of Measurement(inches, feet, yards): \")\n",
    "convert_to  = input(\"Enter Starting Unit of Measurement to Convert to (inches, feet, yards): \")\n",
    "number_of_inches = input(\"Enter Starting Unit of Measurement in Inches: \")\n",
    "number_of_feet = input(\"Enter Starting Unit of Measurement in Feet: \")\n",
    "number_of_yards = input(\"Enter Starting Unit of Measurement in Yards: \")"
   ]
  },
  {
   "cell_type": "code",
   "execution_count": 29,
   "id": "8bf66197-568d-460f-8876-da443dd5c993",
   "metadata": {},
   "outputs": [
    {
     "name": "stdin",
     "output_type": "stream",
     "text": [
      "Enter Starting Unit of Measurement(inches, feet, yards):  feet\n",
      "Enter Starting Unit of Measurement to Convert to (inches, feet, yards):  yards\n",
      "Enter Starting Unit of Measurement in Feet:  24\n"
     ]
    },
    {
     "name": "stdout",
     "output_type": "stream",
     "text": [
      "Result:  24 Feet = 8.0 Yards\n"
     ]
    }
   ],
   "source": [
    "convert_from = input(\"Enter Starting Unit of Measurement(inches, feet, yards): \")\n",
    "convert_to  = input(\"Enter Starting Unit of Measurement to Convert to (inches, feet, yards): \")\n",
    "\n",
    "if convert_from == \"inches\":\n",
    "    number_of_inches = int(input(\"Enter Starting Unit of Measurement in Inches: \"))\n",
    "    if convert_to == 'feet':\n",
    "        print(\"Result:  \" + str(number_of_inches) + \" Inches = \" + str(round(number_of_inches / 12,2)) + \" Feet\")\n",
    "    elif convert_to == 'yards':\n",
    "        print(\"Result:  \" + str(number_of_inches) + \" Inches = \" + str(round(number_of_inches / 36,2)) + \" Yards\")\n",
    "    else:\n",
    "        print (\"Please Enter Either Inches, Feet, or Yards.\")\n",
    "elif convert_from == \"feet\":\n",
    "    number_of_feet = int(input(\"Enter Starting Unit of Measurement in Feet: \"))\n",
    "    if convert_to == 'inches':\n",
    "        print(\"Result:  \" + str(number_of_feet) + \" Feet = \" + str(round(number_of_feet * 12)) + \" Inches\")\n",
    "    elif convert_to == 'yards':\n",
    "        print(\"Result:  \" + str(number_of_feet) + \" Feet = \" + str(round(number_of_feet / 3,2)) + \" Yards\")\n",
    "    else:\n",
    "        print (\"Please Enter Either Inches, Feet, or Yards.\")\n",
    "elif convert_from == \"yards\":\n",
    "    number_of_yards = int(input(\"Enter Starting Unit of Measurement in Yards: \"))\n",
    "    if convert_to == 'inches':\n",
    "        print(\"Result:  \" + str(number_of_yards) + \" Yards = \" + str(round(number_of_yards * 36)) + \" Inches\")\n",
    "    elif convert_to == 'feet':\n",
    "        print(\"Result:  \" + str(number_of_yards) + \" Yards = \" + str(round(number_of_yards * 3)) + \" Feet\")\n",
    "    else:\n",
    "        print (\"Please Enter Either Inches, Feet, or Yards.\")\n",
    "else:\n",
    "    print(\"Please Enter Either Inches, Feet, or Yards.\")"
   ]
  },
  {
   "cell_type": "code",
   "execution_count": null,
   "id": "0585edeb-2b67-462b-8ef1-73bd65fc0099",
   "metadata": {},
   "outputs": [],
   "source": []
  },
  {
   "cell_type": "code",
   "execution_count": null,
   "id": "5ccdea87-f4e9-4abe-b4ae-b84c72b7acf0",
   "metadata": {},
   "outputs": [],
   "source": []
  }
 ],
 "metadata": {
  "kernelspec": {
   "display_name": "Python 3 (ipykernel)",
   "language": "python",
   "name": "python3"
  },
  "language_info": {
   "codemirror_mode": {
    "name": "ipython",
    "version": 3
   },
   "file_extension": ".py",
   "mimetype": "text/x-python",
   "name": "python",
   "nbconvert_exporter": "python",
   "pygments_lexer": "ipython3",
   "version": "3.12.7"
  }
 },
 "nbformat": 4,
 "nbformat_minor": 5
}
