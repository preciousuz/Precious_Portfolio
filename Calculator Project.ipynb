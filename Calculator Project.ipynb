{
 "cells": [
  {
   "cell_type": "code",
   "execution_count": 1,
   "id": "eef58315-00a1-44c1-b97d-45935572c8d8",
   "metadata": {},
   "outputs": [],
   "source": [
    "def add(x,y):\n",
    "    return x + y\n",
    "def subtract(x,y):\n",
    "    return x - y\n",
    "def multiply(x,y):\n",
    "    return x * y\n",
    "def divide(x,y):\n",
    "    return x / y"
   ]
  },
  {
   "cell_type": "code",
   "execution_count": 3,
   "id": "03a4119e-ce98-44f2-9691-255fe6657fd4",
   "metadata": {},
   "outputs": [
    {
     "name": "stdin",
     "output_type": "stream",
     "text": [
      "Enter Choice: (A,S,M,D):  A\n",
      "Enter first number:  2\n",
      "Enter second number:  3\n"
     ]
    }
   ],
   "source": [
    "choice = input('Enter Choice: (A,S,M,D): ')\n",
    "num1 = float(input('Enter first number: '))\n",
    "num2 = float(input('Enter second number: '))"
   ]
  },
  {
   "cell_type": "code",
   "execution_count": 14,
   "id": "57a71c98-36e1-4301-b0e7-e14506920842",
   "metadata": {},
   "outputs": [
    {
     "name": "stdout",
     "output_type": "stream",
     "text": [
      "Enter 'A' for Addition.\n",
      "Enter 'S' for Subtraction.\n",
      "Enter 'M' for Multiplication.\n",
      "Enter 'D' for Division.\n"
     ]
    },
    {
     "name": "stdin",
     "output_type": "stream",
     "text": [
      "Enter Choice: (A,S,M,D):  a\n",
      "Enter first number:  20\n",
      "Enter second number:  40\n"
     ]
    },
    {
     "name": "stdout",
     "output_type": "stream",
     "text": [
      "Result: 20.0 + 40.0 = 60.0\n"
     ]
    },
    {
     "name": "stdin",
     "output_type": "stream",
     "text": [
      "Want to do another calculation? (yes/no?):  y\n",
      "Enter Choice: (A,S,M,D):  m\n",
      "Enter first number:  10\n",
      "Enter second number:  10\n"
     ]
    },
    {
     "name": "stdout",
     "output_type": "stream",
     "text": [
      "Result: 10.0 * 10.0 = 100.0\n"
     ]
    },
    {
     "name": "stdin",
     "output_type": "stream",
     "text": [
      "Want to do another calculation? (yes/no?):  y\n",
      "Enter Choice: (A,S,M,D):  100\n"
     ]
    },
    {
     "name": "stdout",
     "output_type": "stream",
     "text": [
      "Please input a correct choice\n"
     ]
    },
    {
     "name": "stdin",
     "output_type": "stream",
     "text": [
      "Want to do another calculation? (yes/no?):  yes\n",
      "Enter Choice: (A,S,M,D):  s\n",
      "Enter first number:  100\n",
      "Enter second number:  50\n"
     ]
    },
    {
     "name": "stdout",
     "output_type": "stream",
     "text": [
      "Result: 100.0 - 50.0 = 50.0\n"
     ]
    },
    {
     "name": "stdin",
     "output_type": "stream",
     "text": [
      "Want to do another calculation? (yes/no?):  no\n"
     ]
    }
   ],
   "source": [
    "print(\"Enter 'A' for Addition.\")\n",
    "print(\"Enter 'S' for Subtraction.\")\n",
    "print(\"Enter 'M' for Multiplication.\")\n",
    "print(\"Enter 'D' for Division.\")\n",
    "\n",
    "\n",
    "\n",
    "\n",
    "while True:\n",
    "    choice = input('Enter Choice: (A,S,M,D): ')\n",
    "    if choice.upper () in ('A', 'ADD', 'ADDITION', 'S', 'SUBTRACT', 'SUBTRACTION', 'M', 'MULTIPLY', 'MULTIPLICATION', 'D', 'DIVIDE', 'DIVISION'):\n",
    "        num1 = float(input('Enter first number: '))\n",
    "        num2 = float(input('Enter second number: '))\n",
    "\n",
    "        if choice.upper() in ('A','ADD','ADDITION'):\n",
    "           print('Result:', num1, '+', num2, '=', add (num1,num2))\n",
    "        \n",
    "        elif choice.upper() in ('S','SUBTRACT','SUBTRACTION'):\n",
    "           print('Result:', num1, '-', num2, '=', subtract (num1,num2))\n",
    "\n",
    "        elif choice.upper() in ('M','MULTIPLY','MULTIPLICATION'):\n",
    "           print('Result:', num1, '*', num2, '=', multiply (num1,num2))\n",
    "\n",
    "        elif choice.upper() in ('D','DIVIDE','DIVISION'):\n",
    "           print('Result:', num1, '/', num2, '=', divide (num1,num2))\n",
    "    else:\n",
    "        print(\"Please input a correct choice\")\n",
    "\n",
    "    next_calculation = input(\"Want to do another calculation? (yes/no?): \")\n",
    "    if next_calculation.lower() in ('no', 'n', 'nope'):\n",
    "        break\n"
   ]
  },
  {
   "cell_type": "code",
   "execution_count": null,
   "id": "52ac9413-6a73-4424-bd9d-41371f7ef5c9",
   "metadata": {},
   "outputs": [],
   "source": []
  }
 ],
 "metadata": {
  "kernelspec": {
   "display_name": "Python 3 (ipykernel)",
   "language": "python",
   "name": "python3"
  },
  "language_info": {
   "codemirror_mode": {
    "name": "ipython",
    "version": 3
   },
   "file_extension": ".py",
   "mimetype": "text/x-python",
   "name": "python",
   "nbconvert_exporter": "python",
   "pygments_lexer": "ipython3",
   "version": "3.12.7"
  }
 },
 "nbformat": 4,
 "nbformat_minor": 5
}
